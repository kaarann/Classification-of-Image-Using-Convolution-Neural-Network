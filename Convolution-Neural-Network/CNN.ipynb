{
 "cells": [
  {
   "cell_type": "code",
   "execution_count": 7,
   "metadata": {},
   "outputs": [],
   "source": [
    "import pandas as pd\n",
    "import numpy as np\n",
    "import keras\n",
    "from keras import backend as k\n",
    "from keras.models import Sequential\n",
    "from keras.layers import Activation\n",
    "from keras.layers.core import Dense, Flatten\n",
    "from keras.optimizers import Adam\n",
    "from keras.metrics import categorical_crossentropy\n",
    "from keras.preprocessing.image import ImageDataGenerator\n",
    "from keras.layers.normalization import BatchNormalization\n",
    "from keras.layers import Convolution2D\n",
    "from keras.layers import MaxPooling2D\n",
    "import matplotlib.pyplot as plt\n",
    "from sklearn.metrics import confusion_matrix\n",
    "import itertools\n",
    "%matplotlib inline"
   ]
  },
  {
   "cell_type": "code",
   "execution_count": 2,
   "metadata": {},
   "outputs": [],
   "source": [
    "train_path = 'C:\\\\Users\\\\Sauraj\\\\Downloads\\\\CNN datasets\\\\New_train'\n",
    "valid_path ='C:\\\\Users\\\\Sauraj\\\\Downloads\\\\CNN datasets\\\\vaild'\n",
    "test_path ='C:\\\\Users\\\\Sauraj\\\\Downloads\\\\CNN datasets\\\\New_test'"
   ]
  },
  {
   "cell_type": "code",
   "execution_count": 3,
   "metadata": {},
   "outputs": [],
   "source": [
    "train_datagen = ImageDataGenerator(rescale = 1./255,\n",
    "                                   shear_range = 0.2,\n",
    "                                   zoom_range = 0.2,\n",
    "                                   horizontal_flip = True)\n"
   ]
  },
  {
   "cell_type": "code",
   "execution_count": 4,
   "metadata": {},
   "outputs": [],
   "source": [
    "test_datagen = ImageDataGenerator(rescale = 1./255)\n"
   ]
  },
  {
   "cell_type": "code",
   "execution_count": 5,
   "metadata": {},
   "outputs": [
    {
     "name": "stdout",
     "output_type": "stream",
     "text": [
      "Found 12002 images belonging to 2 classes.\n",
      "Found 0 images belonging to 0 classes.\n"
     ]
    }
   ],
   "source": [
    "training_set = train_datagen.flow_from_directory(train_path,\n",
    "                                                 target_size = (64, 64),\n",
    "                                                 batch_size = 100,\n",
    "                                                 class_mode = 'binary')\n",
    "\n",
    "test_set = test_datagen.flow_from_directory(test_path ,\n",
    "                                            target_size = (64, 64),\n",
    "                                            batch_size = 100,\n",
    "                                            class_mode = 'binary')\n"
   ]
  },
  {
   "cell_type": "markdown",
   "metadata": {},
   "source": [
    "# Building simple CNN  and train"
   ]
  },
  {
   "cell_type": "code",
   "execution_count": 8,
   "metadata": {},
   "outputs": [
    {
     "name": "stderr",
     "output_type": "stream",
     "text": [
      "C:\\Users\\Sauraj\\Anaconda3\\lib\\site-packages\\ipykernel_launcher.py:3: UserWarning: Update your `Conv2D` call to the Keras 2 API: `Conv2D(32, (3, 3), input_shape=(64, 64, 3..., activation=\"relu\")`\n",
      "  This is separate from the ipykernel package so we can avoid doing imports until\n",
      "C:\\Users\\Sauraj\\Anaconda3\\lib\\site-packages\\ipykernel_launcher.py:7: UserWarning: Update your `Conv2D` call to the Keras 2 API: `Conv2D(32, (3, 3), activation=\"relu\")`\n",
      "  import sys\n",
      "C:\\Users\\Sauraj\\Anaconda3\\lib\\site-packages\\ipykernel_launcher.py:10: UserWarning: Update your `Conv2D` call to the Keras 2 API: `Conv2D(32, (3, 3), activation=\"relu\")`\n",
      "  # Remove the CWD from sys.path while we load stuff.\n",
      "C:\\Users\\Sauraj\\Anaconda3\\lib\\site-packages\\ipykernel_launcher.py:16: UserWarning: Update your `Dense` call to the Keras 2 API: `Dense(activation=\"relu\", units=128)`\n",
      "  app.launch_new_instance()\n",
      "C:\\Users\\Sauraj\\Anaconda3\\lib\\site-packages\\ipykernel_launcher.py:17: UserWarning: Update your `Dense` call to the Keras 2 API: `Dense(activation=\"relu\", units=128)`\n",
      "C:\\Users\\Sauraj\\Anaconda3\\lib\\site-packages\\ipykernel_launcher.py:18: UserWarning: Update your `Dense` call to the Keras 2 API: `Dense(activation=\"sigmoid\", units=1)`\n"
     ]
    }
   ],
   "source": [
    "model =Sequential()\n",
    "#first Layer\n",
    "model.add(Convolution2D(32,3,3,input_shape=(64,64,3),activation='relu'))\n",
    "# max pooling layer\n",
    "model.add(MaxPooling2D(pool_size=(2,2)))\n",
    "# secound layer\n",
    "model.add(Convolution2D(32,3,3,activation='relu'))\n",
    "model.add(MaxPooling2D(pool_size=(2,2)))    \n",
    "# thired layer\n",
    "model.add(Convolution2D(32,3,3,activation='relu'))\n",
    "model.add(MaxPooling2D(pool_size=(2,2)))         \n",
    "#\n",
    "# flattering\n",
    "model.add(Flatten())\n",
    "# fully connected layer\n",
    "model.add(Dense(output_dim=128,activation='relu'))\n",
    "model.add(Dense(output_dim=128,activation='relu'))\n",
    "model.add(Dense(output_dim=1,activation='sigmoid'))\n",
    "           "
   ]
  },
  {
   "cell_type": "code",
   "execution_count": 9,
   "metadata": {},
   "outputs": [],
   "source": [
    "model.compile(optimizer='adam',loss='binary_crossentropy',metrics=['accuracy'])"
   ]
  },
  {
   "cell_type": "code",
   "execution_count": 10,
   "metadata": {},
   "outputs": [
    {
     "name": "stdout",
     "output_type": "stream",
     "text": [
      "Epoch 1/100\n",
      "120/120 [==============================] - 396s 3s/step - loss: 0.6708 - acc: 0.5769\n",
      "Epoch 2/100\n",
      "120/120 [==============================] - 141s 1s/step - loss: 0.6037 - acc: 0.6734\n",
      "Epoch 3/100\n",
      "120/120 [==============================] - 142s 1s/step - loss: 0.5698 - acc: 0.6968\n",
      "Epoch 4/100\n",
      "120/120 [==============================] - 141s 1s/step - loss: 0.5681 - acc: 0.7113\n",
      "Epoch 5/100\n",
      "120/120 [==============================] - 138s 1s/step - loss: 0.5050 - acc: 0.7516\n",
      "Epoch 6/100\n",
      "120/120 [==============================] - 138s 1s/step - loss: 0.4871 - acc: 0.7669\n",
      "Epoch 7/100\n",
      "120/120 [==============================] - 139s 1s/step - loss: 0.4695 - acc: 0.7757\n",
      "Epoch 8/100\n",
      "120/120 [==============================] - 138s 1s/step - loss: 0.4561 - acc: 0.7808\n",
      "Epoch 9/100\n",
      "120/120 [==============================] - 138s 1s/step - loss: 0.4557 - acc: 0.7829\n",
      "Epoch 10/100\n",
      "120/120 [==============================] - 138s 1s/step - loss: 0.4258 - acc: 0.8023\n",
      "Epoch 11/100\n",
      "120/120 [==============================] - 139s 1s/step - loss: 0.4335 - acc: 0.7954\n",
      "Epoch 12/100\n",
      "120/120 [==============================] - 136s 1s/step - loss: 0.4089 - acc: 0.8081\n",
      "Epoch 13/100\n",
      "120/120 [==============================] - 138s 1s/step - loss: 0.3899 - acc: 0.8217\n",
      "Epoch 14/100\n",
      "120/120 [==============================] - 137s 1s/step - loss: 0.3879 - acc: 0.8207\n",
      "Epoch 15/100\n",
      "120/120 [==============================] - 136s 1s/step - loss: 0.4034 - acc: 0.8140\n",
      "Epoch 16/100\n",
      "120/120 [==============================] - 138s 1s/step - loss: 0.3733 - acc: 0.8344\n",
      "Epoch 17/100\n",
      "120/120 [==============================] - 137s 1s/step - loss: 0.3476 - acc: 0.8454\n",
      "Epoch 18/100\n",
      "120/120 [==============================] - 137s 1s/step - loss: 0.3427 - acc: 0.8460\n",
      "Epoch 19/100\n",
      "120/120 [==============================] - 137s 1s/step - loss: 0.3555 - acc: 0.8404\n",
      "Epoch 20/100\n",
      "120/120 [==============================] - 137s 1s/step - loss: 0.3457 - acc: 0.8430\n",
      "Epoch 21/100\n",
      "120/120 [==============================] - 136s 1s/step - loss: 0.3279 - acc: 0.8535\n",
      "Epoch 22/100\n",
      "120/120 [==============================] - 137s 1s/step - loss: 0.3043 - acc: 0.8667\n",
      "Epoch 23/100\n",
      "120/120 [==============================] - 137s 1s/step - loss: 0.3188 - acc: 0.8658\n",
      "Epoch 24/100\n",
      "120/120 [==============================] - 137s 1s/step - loss: 0.2975 - acc: 0.8700\n",
      "Epoch 25/100\n",
      "120/120 [==============================] - 138s 1s/step - loss: 0.2933 - acc: 0.8719\n",
      "Epoch 26/100\n",
      "120/120 [==============================] - 139s 1s/step - loss: 0.2822 - acc: 0.8765\n",
      "Epoch 27/100\n",
      "120/120 [==============================] - 136s 1s/step - loss: 0.2769 - acc: 0.8779\n",
      "Epoch 28/100\n",
      "120/120 [==============================] - 136s 1s/step - loss: 0.2689 - acc: 0.8896\n",
      "Epoch 29/100\n",
      "120/120 [==============================] - 147s 1s/step - loss: 0.2616 - acc: 0.8877\n",
      "Epoch 30/100\n",
      "120/120 [==============================] - 138s 1s/step - loss: 0.2524 - acc: 0.8954\n",
      "Epoch 31/100\n",
      "120/120 [==============================] - 136s 1s/step - loss: 0.2377 - acc: 0.8977\n",
      "Epoch 32/100\n",
      "120/120 [==============================] - 138s 1s/step - loss: 0.2405 - acc: 0.9002\n",
      "Epoch 33/100\n",
      "120/120 [==============================] - 136s 1s/step - loss: 0.2721 - acc: 0.8843\n",
      "Epoch 34/100\n",
      "120/120 [==============================] - 137s 1s/step - loss: 0.2297 - acc: 0.9021\n",
      "Epoch 35/100\n",
      "120/120 [==============================] - 135s 1s/step - loss: 0.2288 - acc: 0.9052\n",
      "Epoch 36/100\n",
      "120/120 [==============================] - 135s 1s/step - loss: 0.2165 - acc: 0.9077\n",
      "Epoch 37/100\n",
      "120/120 [==============================] - 136s 1s/step - loss: 0.2153 - acc: 0.9115\n",
      "Epoch 38/100\n",
      "120/120 [==============================] - 136s 1s/step - loss: 0.2056 - acc: 0.9150\n",
      "Epoch 39/100\n",
      "120/120 [==============================] - 140s 1s/step - loss: 0.1984 - acc: 0.9161\n",
      "Epoch 40/100\n",
      "120/120 [==============================] - 138s 1s/step - loss: 0.2018 - acc: 0.9138\n",
      "Epoch 41/100\n",
      "120/120 [==============================] - 136s 1s/step - loss: 0.1901 - acc: 0.9231\n",
      "Epoch 42/100\n",
      "120/120 [==============================] - 130s 1s/step - loss: 0.2598 - acc: 0.8876\n",
      "Epoch 43/100\n",
      "120/120 [==============================] - 137s 1s/step - loss: 0.1792 - acc: 0.9257\n",
      "Epoch 44/100\n",
      "120/120 [==============================] - 135s 1s/step - loss: 0.1799 - acc: 0.9272\n",
      "Epoch 45/100\n",
      "120/120 [==============================] - 136s 1s/step - loss: 0.1696 - acc: 0.9323\n",
      "Epoch 46/100\n",
      "120/120 [==============================] - 138s 1s/step - loss: 0.1855 - acc: 0.9239\n",
      "Epoch 47/100\n",
      "120/120 [==============================] - 134s 1s/step - loss: 0.1586 - acc: 0.9359\n",
      "Epoch 48/100\n",
      "120/120 [==============================] - 137s 1s/step - loss: 0.1668 - acc: 0.9306\n",
      "Epoch 49/100\n",
      "120/120 [==============================] - 135s 1s/step - loss: 0.1562 - acc: 0.9387\n",
      "Epoch 50/100\n",
      "120/120 [==============================] - 136s 1s/step - loss: 0.1601 - acc: 0.9379\n",
      "Epoch 51/100\n",
      "120/120 [==============================] - 136s 1s/step - loss: 0.1390 - acc: 0.9439\n",
      "Epoch 52/100\n",
      "120/120 [==============================] - 138s 1s/step - loss: 0.1669 - acc: 0.9340\n",
      "Epoch 53/100\n",
      "120/120 [==============================] - 140s 1s/step - loss: 0.2445 - acc: 0.9001\n",
      "Epoch 54/100\n",
      "120/120 [==============================] - 136s 1s/step - loss: 0.1484 - acc: 0.9424\n",
      "Epoch 55/100\n",
      "120/120 [==============================] - 135s 1s/step - loss: 0.1404 - acc: 0.9432\n",
      "Epoch 56/100\n",
      "120/120 [==============================] - 135s 1s/step - loss: 0.1282 - acc: 0.9509\n",
      "Epoch 57/100\n",
      "120/120 [==============================] - 137s 1s/step - loss: 0.1220 - acc: 0.9510\n",
      "Epoch 58/100\n",
      "120/120 [==============================] - 137s 1s/step - loss: 0.1275 - acc: 0.9492\n",
      "Epoch 59/100\n",
      "120/120 [==============================] - 135s 1s/step - loss: 0.1308 - acc: 0.9487\n",
      "Epoch 60/100\n",
      "120/120 [==============================] - 135s 1s/step - loss: 0.1197 - acc: 0.9539\n",
      "Epoch 61/100\n",
      "120/120 [==============================] - 134s 1s/step - loss: 0.2073 - acc: 0.9144\n",
      "Epoch 62/100\n",
      "120/120 [==============================] - 136s 1s/step - loss: 0.1442 - acc: 0.9423\n",
      "Epoch 63/100\n",
      "120/120 [==============================] - 135s 1s/step - loss: 0.1200 - acc: 0.9527\n",
      "Epoch 64/100\n",
      "120/120 [==============================] - 136s 1s/step - loss: 0.1092 - acc: 0.9567\n",
      "Epoch 65/100\n",
      "120/120 [==============================] - 134s 1s/step - loss: 0.1068 - acc: 0.9590\n",
      "Epoch 66/100\n",
      "120/120 [==============================] - 135s 1s/step - loss: 0.1262 - acc: 0.9522\n",
      "Epoch 67/100\n",
      "120/120 [==============================] - 135s 1s/step - loss: 0.1065 - acc: 0.9573\n",
      "Epoch 68/100\n",
      "120/120 [==============================] - 136s 1s/step - loss: 0.1026 - acc: 0.9592\n",
      "Epoch 69/100\n",
      "120/120 [==============================] - 135s 1s/step - loss: 0.1088 - acc: 0.9581\n",
      "Epoch 70/100\n",
      "120/120 [==============================] - 135s 1s/step - loss: 0.1336 - acc: 0.9499\n",
      "Epoch 71/100\n",
      "120/120 [==============================] - 135s 1s/step - loss: 0.0988 - acc: 0.9624\n",
      "Epoch 72/100\n",
      "120/120 [==============================] - 135s 1s/step - loss: 0.0963 - acc: 0.9627\n",
      "Epoch 73/100\n",
      "120/120 [==============================] - 136s 1s/step - loss: 0.1090 - acc: 0.9574\n",
      "Epoch 74/100\n",
      "120/120 [==============================] - 139s 1s/step - loss: 0.0872 - acc: 0.9661\n",
      "Epoch 75/100\n",
      "120/120 [==============================] - 135s 1s/step - loss: 0.1578 - acc: 0.9376\n",
      "Epoch 76/100\n",
      "120/120 [==============================] - 134s 1s/step - loss: 0.1085 - acc: 0.9567\n",
      "Epoch 77/100\n",
      "120/120 [==============================] - 135s 1s/step - loss: 0.1123 - acc: 0.9548\n",
      "Epoch 78/100\n",
      "120/120 [==============================] - 139s 1s/step - loss: 0.1105 - acc: 0.9558\n",
      "Epoch 79/100\n",
      "120/120 [==============================] - 140s 1s/step - loss: 0.1043 - acc: 0.9599\n",
      "Epoch 80/100\n",
      "120/120 [==============================] - 137s 1s/step - loss: 0.0807 - acc: 0.9678\n",
      "Epoch 81/100\n",
      "120/120 [==============================] - 135s 1s/step - loss: 0.0817 - acc: 0.9680\n",
      "Epoch 82/100\n",
      "120/120 [==============================] - 134s 1s/step - loss: 0.0800 - acc: 0.9692\n",
      "Epoch 83/100\n",
      "120/120 [==============================] - 134s 1s/step - loss: 0.0736 - acc: 0.9719\n",
      "Epoch 84/100\n"
     ]
    },
    {
     "name": "stdout",
     "output_type": "stream",
     "text": [
      "120/120 [==============================] - 132s 1s/step - loss: 0.0903 - acc: 0.9668\n",
      "Epoch 85/100\n",
      "120/120 [==============================] - 133s 1s/step - loss: 0.0790 - acc: 0.9715\n",
      "Epoch 86/100\n",
      "120/120 [==============================] - 131s 1s/step - loss: 0.1441 - acc: 0.9434\n",
      "Epoch 87/100\n",
      "120/120 [==============================] - 135s 1s/step - loss: 0.1823 - acc: 0.9281\n",
      "Epoch 88/100\n",
      "120/120 [==============================] - 137s 1s/step - loss: 0.1244 - acc: 0.9518\n",
      "Epoch 89/100\n",
      "120/120 [==============================] - 136s 1s/step - loss: 0.1060 - acc: 0.9603\n",
      "Epoch 90/100\n",
      "120/120 [==============================] - 135s 1s/step - loss: 0.1015 - acc: 0.9594\n",
      "Epoch 91/100\n",
      "120/120 [==============================] - 134s 1s/step - loss: 0.0812 - acc: 0.9692\n",
      "Epoch 92/100\n",
      "120/120 [==============================] - 135s 1s/step - loss: 0.0647 - acc: 0.9751\n",
      "Epoch 93/100\n",
      "120/120 [==============================] - 159s 1s/step - loss: 0.0781 - acc: 0.9702\n",
      "Epoch 94/100\n",
      "120/120 [==============================] - 165s 1s/step - loss: 0.0714 - acc: 0.9722\n",
      "Epoch 95/100\n",
      "120/120 [==============================] - 164s 1s/step - loss: 0.2027 - acc: 0.9223\n",
      "Epoch 96/100\n",
      "120/120 [==============================] - 167s 1s/step - loss: 0.0926 - acc: 0.9644\n",
      "Epoch 97/100\n",
      "120/120 [==============================] - 164s 1s/step - loss: 0.0765 - acc: 0.9712\n",
      "Epoch 98/100\n",
      "120/120 [==============================] - 164s 1s/step - loss: 0.0647 - acc: 0.9760\n",
      "Epoch 99/100\n",
      "120/120 [==============================] - 163s 1s/step - loss: 0.0575 - acc: 0.9773\n",
      "Epoch 100/100\n",
      "120/120 [==============================] - 164s 1s/step - loss: 0.0611 - acc: 0.9766\n"
     ]
    },
    {
     "data": {
      "text/plain": [
       "<keras.callbacks.History at 0x1a9bd6c49e8>"
      ]
     },
     "execution_count": 10,
     "metadata": {},
     "output_type": "execute_result"
    }
   ],
   "source": [
    " model.fit_generator(training_set,steps_per_epoch=120,epochs=100)"
   ]
  },
  {
   "cell_type": "code",
   "execution_count": 23,
   "metadata": {},
   "outputs": [],
   "source": [
    "model.save('image_classifer.h5')"
   ]
  },
  {
   "cell_type": "code",
   "execution_count": 12,
   "metadata": {},
   "outputs": [],
   "source": [
    "from keras.preprocessing import image\n",
    "\n",
    "test_img = image.load_img(\"C:\\\\Users\\\\Sauraj\\\\Downloads\\\\CNN datasets\\\\New_test\\\\5.jpg\",target_size=(64,64))\n",
    "\n"
   ]
  },
  {
   "cell_type": "code",
   "execution_count": 84,
   "metadata": {},
   "outputs": [
    {
     "data": {
      "text/plain": [
       "(64, 64, 3)"
      ]
     },
     "execution_count": 84,
     "metadata": {},
     "output_type": "execute_result"
    }
   ],
   "source": [
    "test= image.img_to_array(test_img)\n",
    "test.shape"
   ]
  },
  {
   "cell_type": "code",
   "execution_count": 85,
   "metadata": {},
   "outputs": [
    {
     "data": {
      "text/plain": [
       "(1, 64, 64, 3)"
      ]
     },
     "execution_count": 85,
     "metadata": {},
     "output_type": "execute_result"
    }
   ],
   "source": [
    "test= np.expand_dims(test,axis=0)\n",
    "test.shape"
   ]
  },
  {
   "cell_type": "code",
   "execution_count": 87,
   "metadata": {},
   "outputs": [
    {
     "data": {
      "text/plain": [
       "array([[1.]], dtype=float32)"
      ]
     },
     "execution_count": 87,
     "metadata": {},
     "output_type": "execute_result"
    }
   ],
   "source": [
    "result= model.predict(test)\n",
    "result"
   ]
  },
  {
   "cell_type": "code",
   "execution_count": 71,
   "metadata": {},
   "outputs": [
    {
     "name": "stdout",
     "output_type": "stream",
     "text": [
      "{'cats': 0, 'dogs': 1}\n"
     ]
    }
   ],
   "source": [
    "print(training_set.class_indices)"
   ]
  },
  {
   "cell_type": "code",
   "execution_count": 88,
   "metadata": {},
   "outputs": [
    {
     "name": "stdout",
     "output_type": "stream",
     "text": [
      "dog\n"
     ]
    }
   ],
   "source": [
    "if result[0][0] == 1:\n",
    "    prediction = 'dog'\n",
    "else:\n",
    "    prediction = 'cat'\n",
    "print(prediction)"
   ]
  },
  {
   "cell_type": "code",
   "execution_count": 13,
   "metadata": {},
   "outputs": [
    {
     "name": "stdout",
     "output_type": "stream",
     "text": [
      "cat\n"
     ]
    }
   ],
   "source": [
    "test_image = image.load_img('C:\\\\Users\\\\Sauraj\\\\Downloads\\\\CNN datasets\\\\New_test\\\\5.jpg', target_size = (64, 64))\n",
    "test_image = image.img_to_array(test_image)\n",
    "test_image = np.expand_dims(test_image, axis = 0)\n",
    "result = model.predict(test_image)\n",
    "training_set.class_indices\n",
    "if result[0][0] == 1:\n",
    "    prediction = 'dog'\n",
    "else:\n",
    "    prediction = 'cat'\n",
    "print(prediction)"
   ]
  },
  {
   "cell_type": "code",
   "execution_count": 18,
   "metadata": {},
   "outputs": [
    {
     "name": "stdout",
     "output_type": "stream",
     "text": [
      "cat\n"
     ]
    }
   ],
   "source": [
    "test_image = image.load_img('C:\\\\Users\\\\Sauraj\\\\Downloads\\\\CNN datasets\\\\New_test\\\\7.jpg', target_size = (64, 64))\n",
    "test_image = image.img_to_array(test_image)\n",
    "test_image = np.expand_dims(test_image, axis = 0)\n",
    "result = model.predict(test_image)\n",
    "training_set.class_indices\n",
    "if result[0][0] == 1:\n",
    "    prediction = 'dog'\n",
    "else:\n",
    "    prediction = 'cat'\n",
    "print(prediction)"
   ]
  },
  {
   "cell_type": "code",
   "execution_count": 22,
   "metadata": {},
   "outputs": [
    {
     "name": "stdout",
     "output_type": "stream",
     "text": [
      "dog\n"
     ]
    }
   ],
   "source": [
    "test_image = image.load_img('C:\\\\Users\\\\Sauraj\\\\Downloads\\\\CNN datasets\\\\New_test\\\\22.jpg', target_size = (64, 64))\n",
    "test_image = image.img_to_array(test_image)\n",
    "test_image = np.expand_dims(test_image, axis = 0)\n",
    "result = model.predict(test_image)\n",
    "training_set.class_indices\n",
    "if result[0][0] == 1:\n",
    "    prediction = 'dog'\n",
    "else:\n",
    "    prediction = 'cat'\n",
    "print(prediction)"
   ]
  },
  {
   "cell_type": "code",
   "execution_count": null,
   "metadata": {},
   "outputs": [],
   "source": []
  }
 ],
 "metadata": {
  "kernelspec": {
   "display_name": "Python 3",
   "language": "python",
   "name": "python3"
  },
  "language_info": {
   "codemirror_mode": {
    "name": "ipython",
    "version": 3
   },
   "file_extension": ".py",
   "mimetype": "text/x-python",
   "name": "python",
   "nbconvert_exporter": "python",
   "pygments_lexer": "ipython3",
   "version": "3.6.4"
  }
 },
 "nbformat": 4,
 "nbformat_minor": 2
}
